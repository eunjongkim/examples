{
 "metadata": {
  "name": "",
  "signature": "sha256:5b6f04e0a3e2e27751470a071f649f62400939ab63719d679429306c939dc206"
 },
 "nbformat": 3,
 "nbformat_minor": 0,
 "worksheets": [
  {
   "cells": [
    {
     "cell_type": "heading",
     "level": 1,
     "metadata": {},
     "source": [
      "Sorting Network Sets"
     ]
    },
    {
     "cell_type": "markdown",
     "metadata": {},
     "source": [
      "Frequently a set of `Networks` is recorded while evolving some other variable; like voltage, or current or time. So... now you have this set of data  and you want to look at how some feature evolves, or calculate some representative  statics. This example demonstrates how to do this using `skrf.NetworkSets`. \n",
      "\n",
      "`NetworkSets`( [tutorial](http://scikit-rf.readthedocs.org/en/latest/tutorials/networkset.html) | [reference](http://scikit-rf.readthedocs.org/en/latest/reference/networkSet.html))\n",
      "are used to store sets of Networks."
     ]
    },
    {
     "cell_type": "heading",
     "level": 2,
     "metadata": {},
     "source": [
      "Generate some Data"
     ]
    },
    {
     "cell_type": "markdown",
     "metadata": {},
     "source": [
      "For the purpose of this example we use a predefined `skrf.Media` object to generate some networks, and save them as a series of touchstone files. Each  file is named with a timestamp, generated with `rf.now_string()`."
     ]
    },
    {
     "cell_type": "code",
     "collapsed": false,
     "input": [
      "\n",
      "!rm -rf tmp\n",
      "!mkdir tmp\n",
      "\n",
      "wg = rf.wr10 # just a dummy media object to generate data\n",
      "from time import sleep \n",
      "for k in range(10):\n",
      "    # timestamp generated with `rf.now_string()`\n",
      "    ntwk = wg.random(name = rf.now_string()+'.s1p')\n",
      "    ntwk.write_touchstone(dir='tmp')\n",
      "    sleep(.1)\n",
      "    \n",
      "    "
     ],
     "language": "python",
     "metadata": {},
     "outputs": [],
     "prompt_number": 5
    },
    {
     "cell_type": "markdown",
     "metadata": {},
     "source": [
      "Lets take a look at what we made"
     ]
    },
    {
     "cell_type": "code",
     "collapsed": false,
     "input": [
      "ls tmp"
     ],
     "language": "python",
     "metadata": {},
     "outputs": [
      {
       "output_type": "stream",
       "stream": "stdout",
       "text": [
        "2015.06.08.14.49.54.251306.s1p  2015.06.08.14.49.54.735620.s1p  2015.06.08.14.49.55.225091.s1p\r\n",
        "2015.06.08.14.49.54.376804.s1p  2015.06.08.14.49.54.854292.s1p  2015.06.08.14.49.55.343750.s1p\r\n",
        "2015.06.08.14.49.54.496672.s1p  2015.06.08.14.49.54.980874.s1p\r\n",
        "2015.06.08.14.49.54.616866.s1p  2015.06.08.14.49.55.103919.s1p\r\n"
       ]
      }
     ],
     "prompt_number": 6
    },
    {
     "cell_type": "heading",
     "level": 2,
     "metadata": {},
     "source": [
      "Not sorted (default)"
     ]
    },
    {
     "cell_type": "markdown",
     "metadata": {},
     "source": [
      "When created using `NetworkSet.from_dir()`, the `NetworkSet`'s stores each `Network` randomly"
     ]
    },
    {
     "cell_type": "code",
     "collapsed": false,
     "input": [
      "ns = rf.NS.from_dir('tmp')\n",
      "ns.ntwk_set "
     ],
     "language": "python",
     "metadata": {},
     "outputs": [
      {
       "metadata": {},
       "output_type": "pyout",
       "prompt_number": 7,
       "text": [
        "[1-Port Network: '2015.06.08.14.49.55.343750',  75-110 GHz, 1001 pts, z0=[ 50.+0.j],\n",
        " 1-Port Network: '2015.06.08.14.49.54.854292',  75-110 GHz, 1001 pts, z0=[ 50.+0.j],\n",
        " 1-Port Network: '2015.06.08.14.49.54.980874',  75-110 GHz, 1001 pts, z0=[ 50.+0.j],\n",
        " 1-Port Network: '2015.06.08.14.49.54.735620',  75-110 GHz, 1001 pts, z0=[ 50.+0.j],\n",
        " 1-Port Network: '2015.06.08.14.49.55.103919',  75-110 GHz, 1001 pts, z0=[ 50.+0.j],\n",
        " 1-Port Network: '2015.06.08.14.49.54.251306',  75-110 GHz, 1001 pts, z0=[ 50.+0.j],\n",
        " 1-Port Network: '2015.06.08.14.49.54.376804',  75-110 GHz, 1001 pts, z0=[ 50.+0.j],\n",
        " 1-Port Network: '2015.06.08.14.49.54.496672',  75-110 GHz, 1001 pts, z0=[ 50.+0.j],\n",
        " 1-Port Network: '2015.06.08.14.49.54.616866',  75-110 GHz, 1001 pts, z0=[ 50.+0.j],\n",
        " 1-Port Network: '2015.06.08.14.49.55.225091',  75-110 GHz, 1001 pts, z0=[ 50.+0.j]]"
       ]
      }
     ],
     "prompt_number": 7
    },
    {
     "cell_type": "heading",
     "level": 2,
     "metadata": {},
     "source": [
      "Sort it"
     ]
    },
    {
     "cell_type": "code",
     "collapsed": false,
     "input": [
      "ns.sort()\n",
      "ns.ntwk_set"
     ],
     "language": "python",
     "metadata": {},
     "outputs": [
      {
       "metadata": {},
       "output_type": "pyout",
       "prompt_number": 8,
       "text": [
        "[1-Port Network: '2015.06.08.14.49.54.251306',  75-110 GHz, 1001 pts, z0=[ 50.+0.j],\n",
        " 1-Port Network: '2015.06.08.14.49.54.376804',  75-110 GHz, 1001 pts, z0=[ 50.+0.j],\n",
        " 1-Port Network: '2015.06.08.14.49.54.496672',  75-110 GHz, 1001 pts, z0=[ 50.+0.j],\n",
        " 1-Port Network: '2015.06.08.14.49.54.616866',  75-110 GHz, 1001 pts, z0=[ 50.+0.j],\n",
        " 1-Port Network: '2015.06.08.14.49.54.735620',  75-110 GHz, 1001 pts, z0=[ 50.+0.j],\n",
        " 1-Port Network: '2015.06.08.14.49.54.854292',  75-110 GHz, 1001 pts, z0=[ 50.+0.j],\n",
        " 1-Port Network: '2015.06.08.14.49.54.980874',  75-110 GHz, 1001 pts, z0=[ 50.+0.j],\n",
        " 1-Port Network: '2015.06.08.14.49.55.103919',  75-110 GHz, 1001 pts, z0=[ 50.+0.j],\n",
        " 1-Port Network: '2015.06.08.14.49.55.225091',  75-110 GHz, 1001 pts, z0=[ 50.+0.j],\n",
        " 1-Port Network: '2015.06.08.14.49.55.343750',  75-110 GHz, 1001 pts, z0=[ 50.+0.j]]"
       ]
      }
     ],
     "prompt_number": 8
    },
    {
     "cell_type": "heading",
     "level": 2,
     "metadata": {},
     "source": [
      "Sorting using `key` argument "
     ]
    },
    {
     "cell_type": "markdown",
     "metadata": {},
     "source": [
      "You can also pass a function through the `key` argument, which allows you to sort on arbitrary properties. For example, we could sort based on the sub-second field of the name,  "
     ]
    },
    {
     "cell_type": "code",
     "collapsed": false,
     "input": [
      "ns = rf.NetworkSet.from_dir('tmp')\n",
      "ns.sort(key = lambda x: x.name.split('.')[0])\n",
      "ns.ntwk_set"
     ],
     "language": "python",
     "metadata": {},
     "outputs": [
      {
       "metadata": {},
       "output_type": "pyout",
       "prompt_number": 9,
       "text": [
        "[1-Port Network: '2015.06.08.14.49.55.343750',  75-110 GHz, 1001 pts, z0=[ 50.+0.j],\n",
        " 1-Port Network: '2015.06.08.14.49.54.854292',  75-110 GHz, 1001 pts, z0=[ 50.+0.j],\n",
        " 1-Port Network: '2015.06.08.14.49.54.980874',  75-110 GHz, 1001 pts, z0=[ 50.+0.j],\n",
        " 1-Port Network: '2015.06.08.14.49.54.735620',  75-110 GHz, 1001 pts, z0=[ 50.+0.j],\n",
        " 1-Port Network: '2015.06.08.14.49.55.103919',  75-110 GHz, 1001 pts, z0=[ 50.+0.j],\n",
        " 1-Port Network: '2015.06.08.14.49.54.251306',  75-110 GHz, 1001 pts, z0=[ 50.+0.j],\n",
        " 1-Port Network: '2015.06.08.14.49.54.376804',  75-110 GHz, 1001 pts, z0=[ 50.+0.j],\n",
        " 1-Port Network: '2015.06.08.14.49.54.496672',  75-110 GHz, 1001 pts, z0=[ 50.+0.j],\n",
        " 1-Port Network: '2015.06.08.14.49.54.616866',  75-110 GHz, 1001 pts, z0=[ 50.+0.j],\n",
        " 1-Port Network: '2015.06.08.14.49.55.225091',  75-110 GHz, 1001 pts, z0=[ 50.+0.j]]"
       ]
      }
     ],
     "prompt_number": 9
    },
    {
     "cell_type": "heading",
     "level": 2,
     "metadata": {},
     "source": [
      "Extracting Datetimes"
     ]
    },
    {
     "cell_type": "markdown",
     "metadata": {},
     "source": [
      "You can also convert the ntwk names to datetime objects, in case you want to plot something with pandas or do some other processing. There is a companion function to `rf.now_string()` which is `rf.now_string_2_dt()`. How creative.."
     ]
    },
    {
     "cell_type": "code",
     "collapsed": false,
     "input": [
      "dt_idx = [rf.now_string_2_dt(k.name ) for k in ns]\n",
      "dt_idx"
     ],
     "language": "python",
     "metadata": {},
     "outputs": [
      {
       "metadata": {},
       "output_type": "pyout",
       "prompt_number": 10,
       "text": [
        "[datetime.datetime(2015, 6, 8, 14, 49, 55, 343750),\n",
        " datetime.datetime(2015, 6, 8, 14, 49, 54, 854292),\n",
        " datetime.datetime(2015, 6, 8, 14, 49, 54, 980874),\n",
        " datetime.datetime(2015, 6, 8, 14, 49, 54, 735620),\n",
        " datetime.datetime(2015, 6, 8, 14, 49, 55, 103919),\n",
        " datetime.datetime(2015, 6, 8, 14, 49, 54, 251306),\n",
        " datetime.datetime(2015, 6, 8, 14, 49, 54, 376804),\n",
        " datetime.datetime(2015, 6, 8, 14, 49, 54, 496672),\n",
        " datetime.datetime(2015, 6, 8, 14, 49, 54, 616866),\n",
        " datetime.datetime(2015, 6, 8, 14, 49, 55, 225091)]"
       ]
      }
     ],
     "prompt_number": 10
    },
    {
     "cell_type": "heading",
     "level": 2,
     "metadata": {},
     "source": [
      "Put into a Pandas DataFrame and Plot"
     ]
    },
    {
     "cell_type": "markdown",
     "metadata": {},
     "source": [
      "The next step is to slice the network set along the time axis. For example we may want to look at S11 phase, at a few different frequencies. This can be done with the following script. Note that NetworkSets can be sliced by frequency with human readable strings, just like Networks."
     ]
    },
    {
     "cell_type": "code",
     "collapsed": false,
     "input": [
      "import pandas as pd \n",
      "dates = pd.DatetimeIndex(dt_idx)\n",
      "\n",
      "# create a function to pull out S11 in degrees at a specific frequency\n",
      "\n",
      "s_deg_at = lambda s:{s: [k[s].s_deg[0,0,0] for k in ns]}\n",
      "\n",
      "for f in ['80ghz', '90ghz','100ghz']:\n",
      "    df =pd.DataFrame(s_deg_at(f), index=dates)\n",
      "    df.plot(ax=gca())\n",
      "title('Phase Evolution in Time')\n",
      "ylabel('S11 (deg)')"
     ],
     "language": "python",
     "metadata": {},
     "outputs": [
      {
       "metadata": {},
       "output_type": "pyout",
       "prompt_number": 11,
       "text": [
        "<matplotlib.text.Text at 0x7ff271995290>"
       ]
      },
      {
       "metadata": {},
       "output_type": "display_data",
       "png": "[encoded data removed]",
       "text": [
        "<matplotlib.figure.Figure at 0x7ff2730efd50>"
       ]
      }
     ],
     "prompt_number": 11
    },
    {
     "cell_type": "heading",
     "level": 3,
     "metadata": {},
     "source": [
      "Formating"
     ]
    },
    {
     "cell_type": "code",
     "collapsed": false,
     "input": [
      "from IPython.core.display import HTML\n",
      "\n",
      "\n",
      "def css_styling():\n",
      "    styles = open(\"./styles/plotly.css\", \"r\").read()\n",
      "    return HTML(styles)\n",
      "css_styling()"
     ],
     "language": "python",
     "metadata": {},
     "outputs": [
      {
       "html": [
        "<style>\n",
        "    /*body {\n",
        "        background-color: #F5F5F5;\n",
        "    }*/\n",
        "    div.cell{\n",
        "        width: 850px;\n",
        "        margin-left: 10% !important;\n",
        "        margin-right: auto;\n",
        "    }\n",
        "    h1 {\n",
        "        font-family: 'Open sans',verdana,arial,sans-serif;\n",
        "    }\n",
        "    .text_cell_render h1 {\n",
        "        font-weight: 200;\n",
        "        font-size: 40pt;\n",
        "        line-height: 100%;\n",
        "        color:#447adb;\n",
        "        margin-bottom: 0em;\n",
        "        margin-top: 0em;\n",
        "        display: block;\n",
        "        white-space: nowrap;\n",
        "    } \n",
        "    h2 {\n",
        "        font-family: 'Open sans',verdana,arial,sans-serif;\n",
        "        \n",
        "    }\n",
        "    .text_cell_render h2 {\n",
        "        font-weight: 200;\n",
        "        font-size: 20pt;\n",
        "        \n",
        "        line-height: 100%;\n",
        "        color:#447adb;\n",
        "        margin-bottom: 1.5em;\n",
        "        margin-top: 0.5em;\n",
        "        display: block;\n",
        "        white-space: nowrap;\n",
        "    } \n",
        "    h3 {\n",
        "        font-family: 'Open sans',verdana,arial,sans-serif;\n",
        "    }\n",
        "    .text_cell_render h3 {\n",
        "        font-weight: 300;\n",
        "        font-size: 18pt;\n",
        "        line-height: 100%;\n",
        "        color:#447adb;\n",
        "        margin-bottom: 0.5em;\n",
        "        margin-top: 2em;\n",
        "        display: block;\n",
        "        white-space: nowrap;\n",
        "    }\n",
        "    h4 {\n",
        "        font-family: 'Open sans',verdana,arial,sans-serif;\n",
        "    }\n",
        "    .text_cell_render h4 {\n",
        "        font-weight: 300;\n",
        "        font-size: 16pt;\n",
        "        color:#447adb;\n",
        "        margin-bottom: 0.5em;\n",
        "        margin-top: 0.5em;\n",
        "        display: block;\n",
        "        white-space: nowrap;\n",
        "    }\n",
        "    h5 {\n",
        "        font-family: 'Open sans',verdana,arial,sans-serif;\n",
        "    }\n",
        "    .text_cell_render h5 {\n",
        "        font-weight: 300;\n",
        "        font-style: normal;\n",
        "        color: #1d3b84;\n",
        "        font-size: 16pt;\n",
        "        margin-bottom: 0em;\n",
        "        margin-top: 1.5em;\n",
        "        display: block;\n",
        "        white-space: nowrap;\n",
        "    }\n",
        "    div.text_cell_render{\n",
        "        font-family: 'Open sans',verdana,arial,sans-serif;\n",
        "        line-height: 135%;\n",
        "        font-size: 125%;\n",
        "        width:750px;\n",
        "        margin-left:auto;\n",
        "        margin-right:auto;\n",
        "        text-align:justify;\n",
        "        text-justify:inter-word;\n",
        "    }\n",
        "    div.output_subarea.output_text.output_pyout {\n",
        "        overflow-x: auto;\n",
        "        overflow-y: scroll;\n",
        "        max-height: 300px;\n",
        "    }\n",
        "    div.output_subarea.output_stream.output_stdout.output_text {\n",
        "        overflow-x: auto;\n",
        "        overflow-y: scroll;\n",
        "        max-height: 300px;\n",
        "    }\n",
        "    code{\n",
        "      font-size: 78%;\n",
        "    }\n",
        "    .rendered_html code{\n",
        "    background-color: transparent;\n",
        "    }\n",
        "    ul{\n",
        "        /* color:#447adb; */  // colors text too\n",
        "        margin: 2em;\n",
        "    }\n",
        "    ul li{\n",
        "        padding-left: 0.5em; \n",
        "        margin-bottom: 0.5em; \n",
        "        margin-top: 0.5em; \n",
        "    }\n",
        "    ul li li{\n",
        "        padding-left: 0.2em; \n",
        "        margin-bottom: 0.2em; \n",
        "        margin-top: 0.2em; \n",
        "    }\n",
        "    ol{\n",
        "        /* color:#447adb; */  // colors text too\n",
        "        margin: 2em;\n",
        "    }\n",
        "    ol li{\n",
        "        padding-left: 0.5em; \n",
        "        margin-bottom: 0.5em; \n",
        "        margin-top: 0.5em; \n",
        "    }\n",
        "    /*.prompt{\n",
        "        display: None;\n",
        "    } */\n",
        "    ul li{\n",
        "        padding-left: 0.5em; \n",
        "        margin-bottom: 0.5em; \n",
        "        margin-top: 0.2em; \n",
        "    }\n",
        "    a:link{\n",
        "       font-weight: bold;\n",
        "       color:#447adb;\n",
        "    }\n",
        "    a:visited{\n",
        "       font-weight: bold;\n",
        "       color: #1d3b84;\n",
        "    }\n",
        "    a:hover{\n",
        "       font-weight: bold;\n",
        "       color: #1d3b84;\n",
        "    }\n",
        "    a:focus{\n",
        "       font-weight: bold;\n",
        "       color:#447adb;\n",
        "    }\n",
        "    a:active{\n",
        "       font-weight: bold;\n",
        "       color:#447adb;\n",
        "    }\n",
        "    .rendered_html :link {\n",
        "       text-decoration: none; \n",
        "    }\n",
        "    .rendered_html :hover {\n",
        "       text-decoration: none; \n",
        "    }\n",
        "    .rendered_html :visited {\n",
        "      text-decoration: none;\n",
        "    }\n",
        "    .rendered_html :focus {\n",
        "      text-decoration: none;\n",
        "    }\n",
        "    .rendered_html :active {\n",
        "      text-decoration: none;\n",
        "    }\n",
        "    .warning{\n",
        "        color: rgb( 240, 20, 20 )\n",
        "    } \n",
        "    hr {\n",
        "      color: #f3f3f3;\n",
        "      background-color: #f3f3f3;\n",
        "      height: 1px;\n",
        "    }\n",
        "    blockquote{\n",
        "      display:block;\n",
        "      background: #f3f3f3;\n",
        "      font-family: 'Open sans',verdana,arial,sans-serif;\n",
        "      width:610px;\n",
        "      padding: 15px 15px 15px 15px;\n",
        "      text-align:justify;\n",
        "      text-justify:inter-word;\n",
        "      }\n",
        "      blockquote p {\n",
        "        margin-bottom: 0;\n",
        "        line-height: 125%;\n",
        "        font-size: 100%;\n",
        "      }\n",
        "   /* element.style {\n",
        "    } */  \n",
        "</style>\n",
        "<script>\n",
        "    MathJax.Hub.Config({\n",
        "                        TeX: {\n",
        "                           extensions: [\"AMSmath.js\"]\n",
        "                           },\n",
        "                tex2jax: {\n",
        "                    inlineMath: [ ['$','$'], [\"\\\\(\",\"\\\\)\"] ],\n",
        "                    displayMath: [ ['$$','$$'], [\"\\\\[\",\"\\\\]\"] ]\n",
        "                },\n",
        "                displayAlign: 'center', // Change this to 'center' to center equations.\n",
        "                \"HTML-CSS\": {\n",
        "                    styles: {'.MathJax_Display': {\"margin\": 4}}\n",
        "                }\n",
        "        });\n",
        "</script>\n"
       ],
       "metadata": {},
       "output_type": "pyout",
       "prompt_number": 12,
       "text": [
        "<IPython.core.display.HTML at 0x7ff271d0dc10>"
       ]
      }
     ],
     "prompt_number": 12
    },
    {
     "cell_type": "code",
     "collapsed": false,
     "input": [],
     "language": "python",
     "metadata": {},
     "outputs": [],
     "prompt_number": 12
    }
   ],
   "metadata": {}
  }
 ]
}