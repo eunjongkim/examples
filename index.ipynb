{
 "metadata": {
  "name": "",
  "signature": "sha256:a39f6f4190adce8c421ebfe8ac96c4e2107d305a07b31aed5954058707c50c02"
 },
 "nbformat": 3,
 "nbformat_minor": 0,
 "worksheets": [
  {
   "cells": [
    {
     "cell_type": "markdown",
     "metadata": {},
     "source": [
      "<img src=\"./images/scikit-rf-title-flat.png\" align = 'left'>"
     ]
    },
    {
     "cell_type": "heading",
     "level": 1,
     "metadata": {},
     "source": [
      "Examples"
     ]
    },
    {
     "cell_type": "markdown",
     "metadata": {},
     "source": [
      "Below are examples which demonstrate some applications of scikit-rf. They are written in the form of [ipython notebooks](http://ipython.org/notebook.html).  These live in https://github.com/scikit-rf/examples."
     ]
    },
    {
     "cell_type": "markdown",
     "metadata": {},
     "source": [
      "\n",
      "- [Time Domain](Time Domain.ipynb)\n",
      "\n",
      "- [Properties of Rectangular Waveguides](Properties of Rectangular Waveguides.ipynb)\n",
      "\n",
      "- [Renormalizing S-parameters](Renormalizing S-parameters.ipynb)\n",
      "\n",
      "- [Measuring a Mutiport Device with a 2-Port Network Analyzer](Measuring a Mutiport Device with a 2-Port Network Analyzer.ipynb)\n",
      "\n",
      "- [Modeling RG-58](Modeling RG-58.ipynb)\n",
      "\n",
      "- [Plots With Plotly](Plots With Plotly.ipynb)\n",
      "\n",
      "- [XKCD styling](XKCD styling.ipynb)\n",
      "\n",
      "- [One Port, Two-Tier Calibration](oneport_tiered_calibration/One Port Tiered Calibration.ipynb )\n",
      "\n",
      "- [mpl-styles](mpl-styles.ipynb)\n",
      "\n",
      "- [VNA Control](VNA Control.ipynb)\n",
      "\n",
      "- [Network v2](Network2.ipynb)\n",
      "\n",
      "- [Interactive Mismatched Line](Interactive Mismatched Line.ipynb)"
     ]
    }
   ],
   "metadata": {}
  }
 ]
}