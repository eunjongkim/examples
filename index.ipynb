{
 "metadata": {
  "name": "",
  "signature": "sha256:fb7b48f43896d94bbf8f78cc9f04a259fd34cec4b8009190b945724abf5f4a86"
 },
 "nbformat": 3,
 "nbformat_minor": 0,
 "worksheets": [
  {
   "cells": [
    {
     "cell_type": "markdown",
     "metadata": {},
     "source": [
      "[XKCD styling](XKCD styling.ipynb)"
     ]
    },
    {
     "cell_type": "code",
     "collapsed": false,
     "input": [],
     "language": "python",
     "metadata": {},
     "outputs": []
    }
   ],
   "metadata": {}
  }
 ]
}