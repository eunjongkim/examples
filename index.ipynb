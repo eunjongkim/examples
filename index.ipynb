{
 "metadata": {
  "name": "",
  "signature": "sha256:a6edd934da375f621d572b365acbb4f49a8697a12b1ee4e9f8143d1584de9249"
 },
 "nbformat": 3,
 "nbformat_minor": 0,
 "worksheets": [
  {
   "cells": [
    {
     "cell_type": "heading",
     "level": 1,
     "metadata": {},
     "source": [
      "Scikit-rf Examples"
     ]
    },
    {
     "cell_type": "markdown",
     "metadata": {},
     "source": [
      "Below are examples which demonstrate some applications of scikit-rf. They are written in the form of [ipython notebooks](http://ipython.org/notebook.html).  These live in https://github.com/scikit-rf/examples."
     ]
    },
    {
     "cell_type": "markdown",
     "metadata": {},
     "source": [
      "\n",
      "\n",
      "- [Properties of Rectangular Waveguides](Properties of Rectangular Waveguides.ipynb)\n",
      "\n",
      "- [Renormalizing S-parameters](Renormalizing S-parameters.ipynb)\n",
      "\n",
      "- [Measuring a Mutiport Device with a 2-Port Network Analyzer](Measuring a Mutiport Device with a 2-Port Network Analyzer.ipynb)\n",
      "\n",
      "- [Modeling RG-58](Modeling RG-58.ipynb)\n",
      "\n",
      "- [Plots With Plotly](Plots With Plotly.ipynb)\n",
      "\n",
      "- [XKCD styling](XKCD styling.ipynb)"
     ]
    }
   ],
   "metadata": {}
  }
 ]
}